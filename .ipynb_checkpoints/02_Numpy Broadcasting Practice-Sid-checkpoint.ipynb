{
 "cells": [
  {
   "cell_type": "markdown",
   "metadata": {},
   "source": [
    "# Using Numpy For Broadcasting"
   ]
  },
  {
   "cell_type": "code",
   "execution_count": 2,
   "metadata": {},
   "outputs": [],
   "source": [
    "import numpy as np"
   ]
  },
  {
   "cell_type": "markdown",
   "metadata": {},
   "source": [
    "## A Review on Numpy Matrix Multiplications\n",
    "\n",
    "Numpy allows you to perform standard matrix operations like multiplication much more efficiently. However, Numpy's power doesn't only encompass speed, but also flexibility. Let's first review what you can do with standard matrices.\n",
    "\n",
    "### Element-Wise Multiplication\n",
    "\n",
    "To understand this method, suppose we have two 2x2 matrices, arr1 and arr2."
   ]
  },
  {
   "cell_type": "code",
   "execution_count": 5,
   "metadata": {},
   "outputs": [
    {
     "name": "stdout",
     "output_type": "stream",
     "text": [
      "ARR1:\n",
      " [[3 1]\n",
      " [2 4]] \n",
      "\n",
      "ARR2:\n",
      " [[4 7]\n",
      " [5 8]]\n"
     ]
    }
   ],
   "source": [
    "arr1 = np.array([[3, 1],[2, 4]])\n",
    "arr2 = np.array([[4, 7],[5, 8]])\n",
    "print(\"ARR1:\\n\",arr1,\"\\n\\nARR2:\\n\",arr2)"
   ]
  },
  {
   "cell_type": "markdown",
   "metadata": {},
   "source": [
    "Element wise multiplication allows us to take two matrices and use the \" * \" operation to create a new matrix as such:"
   ]
  },
  {
   "cell_type": "code",
   "execution_count": 7,
   "metadata": {},
   "outputs": [
    {
     "name": "stdout",
     "output_type": "stream",
     "text": [
      "ARR3:\n",
      " [[12  7]\n",
      " [10 32]]\n"
     ]
    }
   ],
   "source": [
    "arr3 = arr1 * arr2\n",
    "print(\"ARR3:\\n\",arr3)"
   ]
  },
  {
   "cell_type": "markdown",
   "metadata": {},
   "source": [
    "Note that the element at position (0,0) for arr1 was 3 and was 4 for arr2. The value at the corresponding position of their result matrix is the product of the two elements. You repeat this for every element of the matrices to get the final matrix. That is why it is called \"element-wise\" matrix multiplication.\n",
    "\n",
    "This form of multiplication can **only** be performed on matrices of the same shape and size. In other words, if one matrix has a shape of M x N, the second matrix must have the shape M x N, and their result will be M x N."
   ]
  },
  {
   "cell_type": "markdown",
   "metadata": {},
   "source": [
    "### \"True\" Matrix Multiplication (Linear Algebra)\n",
    "\n",
    "This kind of matrix multiplication is the standard kind taught in linear algebra courses. Instead of multiplying each entry by the corresponding entry of another matrix like in element-wise, this method instead produces a matrix that is a *linear combination* of the components of one of the matrices.\n",
    "\n",
    "With Numpy, there is a method that allows you to perform matrix multiplication called **np.matmul**, where you input the two arguments that you wish to multiply. It returns their result. It is important that you input your matrices **in the correct order** so that the dimensions are ordered as N x M then M x K."
   ]
  },
  {
   "cell_type": "code",
   "execution_count": 10,
   "metadata": {},
   "outputs": [
    {
     "name": "stdout",
     "output_type": "stream",
     "text": [
      "ARR1:\n",
      " [[3 1]\n",
      " [2 4]] \n",
      "\n",
      "vector1:\n",
      " [[2]\n",
      " [7]]\n",
      "\n",
      "vector2:\n",
      " [[13]\n",
      " [32]]\n"
     ]
    }
   ],
   "source": [
    "'''true matrix multiplication of a matrix and vector.'''\n",
    "vector1 = np.array([[2],[7]])\n",
    "print(\"ARR1:\\n\",arr1,\"\\n\\nvector1:\\n\",vector1)\n",
    "vector2 = np.matmul(arr1, vector1) # multiplying a 2 x 2 matrix with a 2 x 1 vector produces a new 2 x 1 vector.\n",
    "print(\"\\nvector2:\\n\",vector2)"
   ]
  },
  {
   "cell_type": "markdown",
   "metadata": {},
   "source": [
    "See how the resulting vector above is equal to the sum of twice the first column and seven times the second column of the matrix?.\n",
    "\n",
    "You can perform this kind of multiplication with two 2d matrices, as well."
   ]
  },
  {
   "cell_type": "code",
   "execution_count": 13,
   "metadata": {},
   "outputs": [
    {
     "name": "stdout",
     "output_type": "stream",
     "text": [
      "ARR1:\n",
      " [[3 1]\n",
      " [2 4]] \n",
      "\n",
      "ARR2:\n",
      " [[4 7]\n",
      " [5 8]]\n",
      "\n",
      "ARR3:\n",
      " [[17 29]\n",
      " [28 46]]\n"
     ]
    }
   ],
   "source": [
    "'''true matrix multiplication two 2x2 matrices'''\n",
    "print(\"ARR1:\\n\",arr1,\"\\n\\nARR2:\\n\",arr2)\n",
    "arr3 = np.matmul(arr1, arr2) # multiplying a 2 x 2 matrix with a 2 x 2 matrix produces a new 2 x 2 vector.\n",
    "print(\"\\nARR3:\\n\",arr3)"
   ]
  },
  {
   "cell_type": "markdown",
   "metadata": {},
   "source": [
    "However, this kind of matrix multiplication is NOT commutitive, so reversing the order produces a new matrix!"
   ]
  },
  {
   "cell_type": "code",
   "execution_count": 14,
   "metadata": {},
   "outputs": [
    {
     "name": "stdout",
     "output_type": "stream",
     "text": [
      "ARR1:\n",
      " [[3 1]\n",
      " [2 4]] \n",
      "\n",
      "ARR2:\n",
      " [[4 7]\n",
      " [5 8]]\n",
      "\n",
      "ARR3:\n",
      " [[26 32]\n",
      " [31 37]]\n"
     ]
    }
   ],
   "source": [
    "'''true matrix multiplication two 2x2 matrices'''\n",
    "print(\"ARR1:\\n\",arr1,\"\\n\\nARR2:\\n\",arr2)\n",
    "arr3 = np.matmul(arr2, arr1) # order is reversed in the matmul method\n",
    "print(\"\\nARR3:\\n\",arr3)"
   ]
  },
  {
   "cell_type": "markdown",
   "metadata": {},
   "source": [
    "## Broadcasting\n",
    "\n",
    "There are times when we want to apply a single operation over a whole matrix of enormous size. For-loops or While-loops are sure-fire ways of ensuring every element is calculated exactly how we desire, but those can be computationally expensive and take incredible amounts of time.\n",
    "\n",
    "Fortunately, there is a technique employed by Numpy called **broadcasting** which acts as a shortcut to perform lots of operations at once, especially for multiplication.\n",
    "\n",
    "For instance, suppose you want to scale up a vector by a constant amount. A common answer would be to simply multiply the vector by a scalar, as seen below:"
   ]
  },
  {
   "cell_type": "code",
   "execution_count": 15,
   "metadata": {},
   "outputs": [
    {
     "name": "stdout",
     "output_type": "stream",
     "text": [
      "Vector 1:\n",
      " [[2]\n",
      " [1]\n",
      " [5]] \n",
      "\n",
      "Broadcasted Vector:\n",
      " [[ 4.]\n",
      " [ 2.]\n",
      " [10.]]\n"
     ]
    }
   ],
   "source": [
    "'''simplest example: multiplying a scalar accross a vector'''\n",
    "vector1 = np.array([[2],[1],[5]])\n",
    "print(\"Vector 1:\\n\",vector1,\"\\n\")\n",
    "scalar = 2.0\n",
    "vector2 = vector1 * scalar\n",
    "print(\"Broadcasted Vector:\\n\", vector2)"
   ]
  },
  {
   "cell_type": "markdown",
   "metadata": {},
   "source": [
    "While this seems intuitive to us, what Numpy is actually doing is creating a new vector of size 3x1 and filling it with the scalar value of 2. Then it can perform element-wise multiplication on the two vectors. This was done automatically!\n",
    "\n",
    "More interestingly, you can do something similar with matrices and vectors. For instance, suppose we have a 3x3 matrix and we want to scale the first row by 2, the second row by 1, and the third row by 5. We could use a for loop, but instead, we do the following:"
   ]
  },
  {
   "cell_type": "code",
   "execution_count": 19,
   "metadata": {},
   "outputs": [
    {
     "name": "stdout",
     "output_type": "stream",
     "text": [
      "ARR4:\n",
      " [[3 2 1]\n",
      " [3 2 1]\n",
      " [3 2 1]] \n",
      "\n",
      "vector1:\n",
      " [[2]\n",
      " [1]\n",
      " [5]] \n",
      "\n",
      "ARR5:\n",
      " [[ 6  4  2]\n",
      " [ 3  2  1]\n",
      " [15 10  5]]\n"
     ]
    }
   ],
   "source": [
    "'''next example: broadcasting a vector over a vector'''\n",
    "vector1 = np.array([[2],[1],[5]])\n",
    "arr4 = np.array([[3,2,1],[3,2,1],[3,2,1]])\n",
    "arr5 = vector1 * arr4\n",
    "print(\"ARR4:\\n\",arr4,\"\\n\\nvector1:\\n\", vector1, \"\\n\\nARR5:\\n\",arr5)"
   ]
  },
  {
   "cell_type": "markdown",
   "metadata": {},
   "source": [
    "Numpy takes our vector1 and duplicates it two times to create a 3x3 matrix so that we can perform element-wise multiplication on our arr4 matrix. Once again, all of this is done automatically!\n",
    "\n",
    "An interesting experiment you can perform is to perform this same experiment, but this time, make your vector1 a **horizontal** vector (1x3 instead of 3x1) and see how it affects the outcome:"
   ]
  },
  {
   "cell_type": "code",
   "execution_count": 21,
   "metadata": {},
   "outputs": [
    {
     "name": "stdout",
     "output_type": "stream",
     "text": [
      "ARR4:\n",
      " [[3 2 1]\n",
      " [3 2 1]\n",
      " [3 2 1]] \n",
      "\n",
      "vector1:\n",
      " [2 1 5] \n",
      "\n",
      "ARR5:\n",
      " [[6 2 5]\n",
      " [6 2 5]\n",
      " [6 2 5]]\n"
     ]
    }
   ],
   "source": [
    "'''Rotated'''\n",
    "vector1 = np.array([2,1,5])\n",
    "arr4 = np.array([[3,2,1],[3,2,1],[3,2,1]])\n",
    "arr5 = vector1 * arr4\n",
    "print(\"ARR4:\\n\",arr4,\"\\n\\nvector1:\\n\", vector1, \"\\n\\nARR5:\\n\",arr5)"
   ]
  },
  {
   "cell_type": "markdown",
   "metadata": {},
   "source": [
    "Notice this time, Numpy automatically duplicates the vector to produce two identical rows beneath it before performing element-wise multiplication. We have rotated this operation!"
   ]
  },
  {
   "cell_type": "markdown",
   "metadata": {},
   "source": [
    "## np.newaxis and Adding Dimensions\n",
    "\n",
    "Suppose we want to veiw a piece of data in a different number of dimensions. How can we just add a new axis? Well, the answer is in the title of the section itself!\n",
    "\n",
    "Numpy has the attribute **np.newaxis**, which allows you to generate a new dimension for your numpy array. You normally call this attribute when you are slicing your numpy array. See the example below:"
   ]
  },
  {
   "cell_type": "code",
   "execution_count": 25,
   "metadata": {},
   "outputs": [
    {
     "name": "stdout",
     "output_type": "stream",
     "text": [
      "Original Vector:\n",
      " [1. 1. 1. 1. 1. 1. 1. 1. 1. 1.]\n",
      "\n",
      "New Vector:\n",
      " [[1. 1. 1. 1. 1. 1. 1. 1. 1. 1.]]\n"
     ]
    }
   ],
   "source": [
    "vector_x = np.ones((10,))\n",
    "print(\"Original Vector:\\n\", vector_x)\n",
    "vector_x = vector_x[np.newaxis,:]\n",
    "print(\"\\nNew Vector:\\n\", vector_x)"
   ]
  },
  {
   "cell_type": "markdown",
   "metadata": {},
   "source": [
    "Although the vector doesn't seem to have changed that much, notice that there is now a second set of brackets. This indicates that the numpy array is no longer a simply array that has a length of 10 only, it is now a **2D** matrix that has a shape of 1x10.\n",
    "\n",
    "Like many things in linear algebra, order makes a huge difference. Now watch what happens when we flip the order of how we call our np.new axis:"
   ]
  },
  {
   "cell_type": "code",
   "execution_count": 26,
   "metadata": {},
   "outputs": [
    {
     "name": "stdout",
     "output_type": "stream",
     "text": [
      "Original Vector:\n",
      " [1. 1. 1. 1. 1. 1. 1. 1. 1. 1.]\n",
      "\n",
      "New Vector:\n",
      " [[1.]\n",
      " [1.]\n",
      " [1.]\n",
      " [1.]\n",
      " [1.]\n",
      " [1.]\n",
      " [1.]\n",
      " [1.]\n",
      " [1.]\n",
      " [1.]]\n"
     ]
    }
   ],
   "source": [
    "vector_x = np.ones((10,))\n",
    "print(\"Original Vector:\\n\", vector_x)\n",
    "vector_x = vector_x[:,np.newaxis]\n",
    "print(\"\\nNew Vector:\\n\", vector_x)"
   ]
  },
  {
   "cell_type": "markdown",
   "metadata": {},
   "source": [
    "Now, the vector was transformed from an array of length 10 to a 2d matrix of shape 10x1 instead of 1x10! This may seem minor, but it is crucial to understand!"
   ]
  },
  {
   "cell_type": "markdown",
   "metadata": {},
   "source": [
    "## Broadcasting Two 2D Matrices\n",
    "\n",
    "Now, getting back to broadcasting, you might be thinking that it is easy enough to broadcast a scalar over a vector or matrix and maybe a vector over a 2d matrix, but how can someone broadcast a 2d matrix over another 2d matrix? That is where we take everything we've learned here so far and combine them together!"
   ]
  },
  {
   "cell_type": "code",
   "execution_count": 28,
   "metadata": {},
   "outputs": [
    {
     "name": "stdout",
     "output_type": "stream",
     "text": [
      "Original matrices:\n",
      "\n",
      "ARR1:\n",
      " [[2 1]\n",
      " [3 0]] \n",
      "\n",
      "ARR2:\n",
      " [[9 2]\n",
      " [4 5]]\n"
     ]
    }
   ],
   "source": [
    "'''Next example: broadcasting one matrix onto another matrix'''\n",
    "arr1 = np.array([[2,1],[3, 0]])\n",
    "arr2 = np.array([[9,2],[4, 5]])\n",
    "\n",
    "print(\"Original matrices:\\n\\nARR1:\\n\",arr1,\"\\n\\nARR2:\\n\",arr2)"
   ]
  },
  {
   "cell_type": "markdown",
   "metadata": {},
   "source": [
    "Now, we will use np.newaxis to help numpy view our arr1 for what it is: a collection of vectors."
   ]
  },
  {
   "cell_type": "code",
   "execution_count": 32,
   "metadata": {},
   "outputs": [
    {
     "name": "stdout",
     "output_type": "stream",
     "text": [
      "_ARR1:\n",
      " [[[2]\n",
      "  [1]]\n",
      "\n",
      " [[3]\n",
      "  [0]]]\n"
     ]
    }
   ],
   "source": [
    "_arr1 = arr1[:,:,np.newaxis]\n",
    "print(\"_ARR1:\\n\",_arr1)"
   ]
  },
  {
   "cell_type": "markdown",
   "metadata": {},
   "source": [
    "This np.newaxis call turns our arr1 into a matrix with the shape 2x2x1, meaning it is a matrix that is made of two 2x1 matrices. Now, when we perform element-wise multiplication, it will broadcast each vector accross our arr2, creating a 3d matrix of size 2x2x2. See the code below:"
   ]
  },
  {
   "cell_type": "code",
   "execution_count": 34,
   "metadata": {},
   "outputs": [
    {
     "name": "stdout",
     "output_type": "stream",
     "text": [
      "_ARR1:\n",
      " [[[2]\n",
      "  [1]]\n",
      "\n",
      " [[3]\n",
      "  [0]]] \n",
      "\n",
      "ARR2:\n",
      " [[9 2]\n",
      " [4 5]]\n",
      "\n",
      "ARR3:\n",
      " [[[18  4]\n",
      "  [ 4  5]]\n",
      "\n",
      " [[27  6]\n",
      "  [ 0  0]]]\n"
     ]
    }
   ],
   "source": [
    "print(\"_ARR1:\\n\",_arr1,\"\\n\\nARR2:\\n\",arr2)\n",
    "arr3 = _arr1 * arr2\n",
    "print(\"\\nARR3:\\n\",arr3)"
   ]
  },
  {
   "cell_type": "markdown",
   "metadata": {},
   "source": [
    "Notice that the first 2x2 matrix in arr3 is the broadcast of the first 2x1 vector over arr2. The second 2x2 matrix is the second 2x1 vector of arr1 broadcasted over arr2.\n",
    "\n",
    "Now, let us see how changing the order of the np.newaxis call affects our broadcasting:"
   ]
  },
  {
   "cell_type": "code",
   "execution_count": 35,
   "metadata": {},
   "outputs": [
    {
     "name": "stdout",
     "output_type": "stream",
     "text": [
      "_ARR1:\n",
      " [[[2 1]]\n",
      "\n",
      " [[3 0]]] \n",
      "\n",
      "ARR2:\n",
      " [[9 2]\n",
      " [4 5]]\n",
      "\n",
      "ARR3:\n",
      " [[[18  2]\n",
      "  [ 8  5]]\n",
      "\n",
      " [[27  0]\n",
      "  [12  0]]]\n"
     ]
    }
   ],
   "source": [
    "_arr1 = arr1[:,np.newaxis,:] # _arr1 has shape 2x1x2: two 1x2 vectors\n",
    "print(\"_ARR1:\\n\",_arr1,\"\\n\\nARR2:\\n\",arr2)\n",
    "arr3 = _arr1 * arr2\n",
    "print(\"\\nARR3:\\n\",arr3)"
   ]
  },
  {
   "cell_type": "code",
   "execution_count": 37,
   "metadata": {},
   "outputs": [
    {
     "name": "stdout",
     "output_type": "stream",
     "text": [
      "_ARR1:\n",
      " [[[2 1]\n",
      "  [3 0]]] \n",
      "\n",
      "ARR2:\n",
      " [[9 2]\n",
      " [4 5]]\n",
      "\n",
      "ARR3:\n",
      " [[[18  2]\n",
      "  [12  0]]]\n"
     ]
    }
   ],
   "source": [
    "_arr1 = arr1[np.newaxis,:,:] # _arr1 has shape 1x2x2: one 2x2 matrix\n",
    "print(\"_ARR1:\\n\",_arr1,\"\\n\\nARR2:\\n\",arr2)\n",
    "arr3 = _arr1 * arr2\n",
    "print(\"\\nARR3:\\n\",arr3)"
   ]
  },
  {
   "cell_type": "markdown",
   "metadata": {},
   "source": [
    "Notice that the final version of broadcasting results in what is affectively element-wise multiplication of the original 2 matrices and then wrapping them inside another set of brackets. That is what happens when you push the np.newaxis all the way to the front."
   ]
  },
  {
   "cell_type": "code",
   "execution_count": null,
   "metadata": {},
   "outputs": [],
   "source": []
  }
 ],
 "metadata": {
  "kernelspec": {
   "display_name": "Python 3",
   "language": "python",
   "name": "python3"
  },
  "language_info": {
   "codemirror_mode": {
    "name": "ipython",
    "version": 3
   },
   "file_extension": ".py",
   "mimetype": "text/x-python",
   "name": "python",
   "nbconvert_exporter": "python",
   "pygments_lexer": "ipython3",
   "version": "3.7.3"
  }
 },
 "nbformat": 4,
 "nbformat_minor": 4
}
